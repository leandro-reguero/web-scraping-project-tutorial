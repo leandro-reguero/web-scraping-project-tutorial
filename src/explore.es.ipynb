{
    "cells": [
        {
            "cell_type": "markdown",
            "metadata": {},
            "source": [
                "# Explora aquí\n",
                "\n",
                "Se recomienda utilizar este cuaderno con fines de exploración."
            ]
        },
        {
            "cell_type": "code",
            "execution_count": 1,
            "metadata": {},
            "outputs": [],
            "source": [
                "import os\n",
                "from bs4 import BeautifulSoup\n",
                "import requests\n",
                "import time\n",
                "import sqlite3\n",
                "import matplotlib.pyplot as plt\n",
                "import seaborn as sns\n",
                "import re\n",
                "import pandas as pd\n",
                "import numpy as np\n",
                "from numpy import random\n",
                "from sqlalchemy import create_engine\n",
                "from sqlalchemy import text\n",
                "from dotenv import load_dotenv\n",
                "import psycopg2 as psy\n",
                "\n",
                "\n"
            ]
        },
        {
            "cell_type": "code",
            "execution_count": 2,
            "metadata": {},
            "outputs": [],
            "source": [
                "def get_scraped():\n",
                "    global url\n",
                "    url = 'https://ycharts.com/companies/TSLA/revenues'\n",
                "    # User-Agent \n",
                "    headers = {\n",
                "        \"User-Agent\": \"Mozilla/5.0 (Macintosh; Intel Mac OS X 10_15_7) AppleWebKit/537.36 (KHTML, like Gecko) Chrome/123.0.0.0 Safari/537.36\"\n",
                "               }\n",
                "    \n",
                "    # GET Request with User-Agent \n",
                "    response = requests.get(url, headers=headers)\n",
                "    time.sleep(9)\n",
                "    if response.status_code == 200:\n",
                "        html_data = response.text\n",
                "        global soup\n",
                "        soup = BeautifulSoup(response.content, 'html.parser')\n",
                "        # print(soup.prettify)\n",
                "\n",
                "    else:\n",
                "        print(f\"There was an error with code: {response.status_code}\")\n",
                "\n",
                "\n",
                "get_scraped()\n",
                "\n",
                "\n"
            ]
        },
        {
            "cell_type": "code",
            "execution_count": 3,
            "metadata": {},
            "outputs": [
                {
                    "name": "stdout",
                    "output_type": "stream",
                    "text": [
                        "['March 31, 2024', 'December 31, 2023', 'September 30, 2023', 'June 30, 2023', 'March 31, 2023', 'December 31, 2022', 'September 30, 2022', 'June 30, 2022', 'March 31, 2022', 'December 31, 2021', 'September 30, 2021', 'June 30, 2021', 'March 31, 2021', 'December 31, 2020', 'September 30, 2020', 'June 30, 2020', 'March 31, 2020', 'December 31, 2019', 'September 30, 2019', 'June 30, 2019', 'March 31, 2019', 'December 31, 2018', 'September 30, 2018', 'June 30, 2018', 'March 31, 2018', 'December 31, 2017', 'September 30, 2017', 'June 30, 2017', 'March 31, 2017', 'December 31, 2016', 'September 30, 2016', 'June 30, 2016', 'March 31, 2016', 'December 31, 2015', 'September 30, 2015', 'June 30, 2015', 'March 31, 2015', 'December 31, 2014', 'September 30, 2014', 'June 30, 2014', 'March 31, 2014', 'December 31, 2013', 'September 30, 2013', 'June 30, 2013', 'March 31, 2013', 'December 31, 2012', 'September 30, 2012', 'June 30, 2012', 'March 31, 2012', 'December 31, 2011']\n",
                        "['21.30B', '25.17B', '23.35B', '24.93B', '23.33B', '24.32B', '21.45B', '16.93B', '18.76B', '17.72B', '13.76B', '11.96B', '10.39B', '10.74B', '8.771B', '6.036B', '5.985B', '7.384B', '6.303B', '6.35B', '4.541B', '7.226B', '6.824B', '4.002B', '3.409B', '3.288B', '2.985B', '2.790B', '2.696B', '2.285B', '2.298B', '1.270B', '1.147B', '1.214B', '936.79M', '954.98M', '939.88M', '956.66M', '851.80M', '769.35M', '620.54M', '615.22M', '431.35M', '405.14M', '561.79M', '306.33M', '50.10M', '26.65M', '30.17M', '39.38M']\n"
                    ]
                }
            ],
            "source": [
                "# A intentar sacar los datos\n",
                "v_list = []\n",
                "d_list = []\n",
                "tables = soup.find_all('table', class_='table')\n",
                "\n",
                "\n",
                "dates = tables[0].find_all('td', class_=None) + tables[1].find_all('td', class_=None)\n",
                "values = tables[0].find_all('td', class_='text-right') + tables[1].find_all('td', class_='text-right')\n",
                "\n",
                "\n",
                "for value in values:\n",
                "    v_list.append(value.text.strip())\n",
                "\n",
                "for date in dates:\n",
                "    d_list.append(date.text.strip())\n",
                "\n",
                "print(d_list)\n",
                "print(v_list)\n",
                "\n",
                "\n",
                "\n",
                "\n",
                "\n",
                "\n",
                "\n",
                "\n",
                "\n"
            ]
        },
        {
            "cell_type": "code",
            "execution_count": 4,
            "metadata": {},
            "outputs": [
                {
                    "name": "stdout",
                    "output_type": "stream",
                    "text": [
                        "         Date   Value\n",
                        "0  2024-03-31  21.300\n",
                        "1  2023-12-31  25.170\n",
                        "2  2023-09-30  23.350\n",
                        "3  2023-06-30  24.930\n",
                        "4  2023-03-31  23.330\n",
                        "5  2022-12-31  24.320\n",
                        "6  2022-09-30  21.450\n",
                        "7  2022-06-30  16.930\n",
                        "8  2022-03-31  18.760\n",
                        "9  2021-12-31  17.720\n",
                        "10 2021-09-30  13.760\n",
                        "11 2021-06-30  11.960\n",
                        "12 2021-03-31  10.390\n",
                        "13 2020-12-31  10.740\n",
                        "14 2020-09-30   8.771\n",
                        "15 2020-06-30   6.036\n",
                        "16 2020-03-31   5.985\n",
                        "17 2019-12-31   7.384\n",
                        "18 2019-09-30   6.303\n",
                        "19 2019-06-30   6.350\n",
                        "20 2019-03-31   4.541\n",
                        "21 2018-12-31   7.226\n",
                        "22 2018-09-30   6.824\n",
                        "23 2018-06-30   4.002\n",
                        "24 2018-03-31   3.409\n",
                        "25 2017-12-31   3.288\n",
                        "26 2017-09-30   2.985\n",
                        "27 2017-06-30   2.790\n",
                        "28 2017-03-31   2.696\n",
                        "29 2016-12-31   2.285\n",
                        "30 2016-09-30   2.298\n",
                        "31 2016-06-30   1.270\n",
                        "32 2016-03-31   1.147\n",
                        "33 2015-12-31   1.214\n",
                        "34 2015-09-30   0.937\n",
                        "35 2015-06-30   0.955\n",
                        "36 2015-03-31   0.940\n",
                        "37 2014-12-31   0.957\n",
                        "38 2014-09-30   0.852\n",
                        "39 2014-06-30   0.769\n",
                        "40 2014-03-31   0.621\n",
                        "41 2013-12-31   0.615\n",
                        "42 2013-09-30   0.431\n",
                        "43 2013-06-30   0.405\n",
                        "44 2013-03-31   0.562\n",
                        "45 2012-12-31   0.306\n",
                        "46 2012-09-30   0.050\n",
                        "47 2012-06-30   0.027\n",
                        "48 2012-03-31   0.030\n",
                        "49 2011-12-31   0.039\n"
                    ]
                }
            ],
            "source": [
                "# Creando el DataFrame\n",
                "dicto = {'Date': d_list, 'Value': v_list}\n",
                "df = pd.DataFrame(dicto)\n",
                "\n",
                "#Procesando y limpiando el DataFrame\n",
                "df['Date'] = pd.to_datetime(df['Date'])\n",
                "in_b = {'M': '*0.001', 'B': ''}\n",
                "df['Value'] = df['Value'].replace(in_b, regex=True).map(pd.eval).round(3)\n",
                "\n",
                "print(df)\n",
                "\n",
                "\n",
                "\n"
            ]
        },
        {
            "cell_type": "code",
            "execution_count": 11,
            "metadata": {},
            "outputs": [
                {
                    "name": "stdout",
                    "output_type": "stream",
                    "text": [
                        "Starting the connection...\n"
                    ]
                },
                {
                    "data": {
                        "text/plain": [
                            "50"
                        ]
                    },
                    "execution_count": 11,
                    "metadata": {},
                    "output_type": "execute_result"
                }
            ],
            "source": [
                "#cargar el archivo env\n",
                "load_dotenv()\n",
                "\n",
                "# Conectar con la base de datos\n",
                "# cargar el archivo .env\n",
                "load_dotenv()\n",
                "\n",
                "# Conectar con la base de datos\n",
                "def connect():\n",
                "    global engine\n",
                "    connection_string = f\"postgresql://{os.getenv('DB_USER')}:{os.getenv('DB_PASSWORD')}@{os.getenv('DB_HOST')}/{os.getenv('DB_NAME')}?\"\n",
                "    print(\"Starting the connection...\")\n",
                "    engine = create_engine(connection_string)\n",
                "    engine.connect()\n",
                "    return engine\n",
                "\n",
                "connect()\n",
                "\n",
                "\n",
                "# Insertar la Tabla en la base de datos\n",
                "df.to_sql('Tesla_historic_value', con = engine.connect() ,if_exists='replace', index=False)\n",
                "\n",
                "\n",
                "\n"
            ]
        },
        {
            "cell_type": "code",
            "execution_count": 16,
            "metadata": {},
            "outputs": [
                {
                    "data": {
                        "image/png": "[encoded data removed]",
                        "text/plain": [
                            "<Figure size 640x480 with 1 Axes>"
                        ]
                    },
                    "metadata": {},
                    "output_type": "display_data"
                }
            ],
            "source": [
                "# plotting the data\n",
                "\n",
                "plt.plot(df['Date'], df['Value'])\n",
                "plt.xticks()\n",
                "plt.show()\n"
            ]
        }
    ],
    "metadata": {
        "kernelspec": {
            "display_name": "Python 3.8.13 64-bit ('3.8.13')",
            "language": "python",
            "name": "python3"
        },
        "language_info": {
            "codemirror_mode": {
                "name": "ipython",
                "version": 3
            },
            "file_extension": ".py",
            "mimetype": "text/x-python",
            "name": "python",
            "nbconvert_exporter": "python",
            "pygments_lexer": "ipython3",
            "version": "3.11.1"
        },
        "orig_nbformat": 4,
        "vscode": {
            "interpreter": {
                "hash": "110cc1dee26208153f2972f08a2ad52b6a56238dc66d48e87fb757ef2996db56"
            }
        }
    },
    "nbformat": 4,
    "nbformat_minor": 2
}
